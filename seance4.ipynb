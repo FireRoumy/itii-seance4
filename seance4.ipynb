{
 "cells": [
  {
   "cell_type": "markdown",
   "metadata": {},
   "source": [
    "#Seance 4"
   ]
  },
  {
   "cell_type": "markdown",
   "metadata": {},
   "source": [
    "Ex 1: Racine quatrième \n",
    "\n",
    "Pour un nombre réel a positif, il existe un unique réel b positif tel que b^n = a. Ce réel est appelé la racine n-ième de a (ou racine n-ième principale de a).\n",
    "\n",
    "1. Donner la fonction python racine(b,n,e) qui donnée la racine n-eme de b avec une précision de e\n"
   ]
  },
  {
   "cell_type": "code",
   "execution_count": 9,
   "metadata": {},
   "outputs": [
    {
     "name": "stdout",
     "output_type": "stream",
     "text": [
      "3.0000000000000013\n"
     ]
    }
   ],
   "source": [
    "def racine(b,n,e):\n",
    "    i=e\n",
    "    while(i**n<=b):\n",
    "        i=i+e\n",
    "    print(i)\n",
    "racine(9,2,0.1)"
   ]
  },
  {
   "cell_type": "markdown",
   "metadata": {},
   "source": [
    "Ex 2: Racine d'un polynome\n",
    "On appelle racine d'une polynome P une solution de l'équation (E): P(x)=0. \n",
    "\n",
    "On considère le trinome ax2+bx+c.\n",
    "\n",
    "Faire un algorithme pour trouver si il a des racines, combien, et calculer leur valeur. "
   ]
  },
  {
   "cell_type": "code",
   "execution_count": 37,
   "metadata": {},
   "outputs": [
    {
     "name": "stdout",
     "output_type": "stream",
     "text": [
      "Deux solutions : -1.0 et -0.5\n"
     ]
    }
   ],
   "source": [
    "from math import sqrt\n",
    "\n",
    "def racine(a,b,c):\n",
    "    d=b*b-4*a*c\n",
    "    if(d==0):\n",
    "        print(\"Il y a une seule racine\")\n",
    "        print(-b/2*a)\n",
    "    elif(d>0):\n",
    "        r = sqrt(d) \n",
    "        x1 = (-b - r) / (2.0 * a) \n",
    "        x2 = (-b + r) / (2.0 * a)\n",
    "        print (\"Deux solutions :\", x1, \"et\", x2)\n",
    "    elif(d<0):\n",
    "        print(\"Il n'y a pas de racine réel\")\n",
    "\n",
    "racine(2,3,1)\n",
    "    "
   ]
  },
  {
   "cell_type": "markdown",
   "metadata": {},
   "source": [
    "#Introduction a Sympy \n",
    " \n",
    "Le module Sympy  permet de faire du calcul symbolique. Par exemple, le nombre √8 est représenté par Python comme un flottant"
   ]
  },
  {
   "cell_type": "code",
   "execution_count": 20,
   "metadata": {},
   "outputs": [
    {
     "data": {
      "text/plain": [
       "2.8284271247461903"
      ]
     },
     "execution_count": 20,
     "metadata": {},
     "output_type": "execute_result"
    }
   ],
   "source": [
    "import math\n",
    "math.sqrt(8)"
   ]
  },
  {
   "cell_type": "markdown",
   "metadata": {},
   "source": [
    "L’avantage de Sympy est que √8 est gardé en tant racine et même automatiquement simplifié"
   ]
  },
  {
   "cell_type": "code",
   "execution_count": 25,
   "metadata": {},
   "outputs": [
    {
     "data": {
      "image/png": "[encoded data removed]",
      "text/latex": [
       "$\\displaystyle 2 \\sqrt{2}$"
      ],
      "text/plain": [
       "2⋅√2"
      ]
     },
     "execution_count": 25,
     "metadata": {},
     "output_type": "execute_result"
    }
   ],
   "source": [
    "from sympy import *\n",
    "\n",
    "init_printing()\n",
    "sqrt(8)"
   ]
  },
  {
   "cell_type": "markdown",
   "metadata": {},
   "source": [
    "Ex3 : Introduction\n",
    "Avant de pourvoir utiliser des variables symboliques, il faut les déclarer comme symboles:"
   ]
  },
  {
   "cell_type": "code",
   "execution_count": 29,
   "metadata": {},
   "outputs": [
    {
     "data": {
      "image/png": "[encoded data removed]",
      "text/latex": [
       "$\\displaystyle \\frac{\\varepsilon}{4} + x^{2} + 4 x + 4 y$"
      ],
      "text/plain": [
       "\\varepsilon    2            \n",
       "─────────── + x  + 4⋅x + 4⋅y\n",
       "     4                      "
      ]
     },
     "execution_count": 29,
     "metadata": {},
     "output_type": "execute_result"
    }
   ],
   "source": [
    "import sympy as sp\n",
    "\n",
    "x = sp.Symbol(\"x\")# definit le symbole x\n",
    "y = sp.Symbol(\"y\", real=True)# définit la variable réelle y\n",
    "e = sp.Symbol(r\"\\varepsilon\", real=True, positive=True)# définit epsilon positif\n",
    "\n",
    "x + 2*y + e/4 + x**2 + 3*x + 2*y"
   ]
  },
  {
   "cell_type": "markdown",
   "metadata": {},
   "source": [
    "1. Lire la doc de la fonction solveet l’utiliser pour calculer les racines d’un polynôme général de degré deux, puis de degré trois\n",
    "2. Lire la documentation des fonction sevalf et N pour évaluer l’expression π^2/4\n",
    "3. Déterminer la partie réelle et imaginaire de l’expression : (1+i√3)^20 / 1+i\n",
    "4. Lire la documentation de la fonction diff et calculer la dérivée de xe^x^x^x par rapport à x.\n",
    "5. Calculer avec Sympy les limites suivantes :\n",
    " * L1= lim x→0 sin(x)/x,\n",
    " * L2= lim x→0 sin(1/x),"
   ]
  },
  {
   "cell_type": "code",
   "execution_count": 56,
   "metadata": {},
   "outputs": [
    {
     "name": "stdout",
     "output_type": "stream",
     "text": [
      "3.141592653589793238462643383279502884197169399375105820974944592307816406286208998628034825342117068\n"
     ]
    },
    {
     "data": {
      "image/png": "[encoded data removed]",
      "text/latex": [
       "$\\displaystyle -524287.999999999 + 908094.453798671 i$"
      ],
      "text/plain": [
       "-524287.999999999 + 908094.453798671⋅ⅈ"
      ]
     },
     "execution_count": 56,
     "metadata": {},
     "output_type": "execute_result"
    }
   ],
   "source": [
    "π=pi.evalf(100)\n",
    "print(π)\n",
    "N(π**2/4)\n",
    "\n",
    "N((1+1j*sqrt(3))**20 / 1+1j)\n",
    "\n"
   ]
  },
  {
   "cell_type": "code",
   "execution_count": 42,
   "metadata": {},
   "outputs": [
    {
     "data": {
      "image/png": "[encoded data removed]",
      "text/latex": [
       "$\\displaystyle \\left[ - \\frac{1}{3} + \\frac{11}{3 \\left(- \\frac{1}{2} - \\frac{\\sqrt{3} i}{2}\\right) \\sqrt[3]{\\frac{155}{2} + \\frac{3 \\sqrt{3261}}{2}}} - \\frac{\\left(- \\frac{1}{2} - \\frac{\\sqrt{3} i}{2}\\right) \\sqrt[3]{\\frac{155}{2} + \\frac{3 \\sqrt{3261}}{2}}}{3}, \\  - \\frac{1}{3} - \\frac{\\left(- \\frac{1}{2} + \\frac{\\sqrt{3} i}{2}\\right) \\sqrt[3]{\\frac{155}{2} + \\frac{3 \\sqrt{3261}}{2}}}{3} + \\frac{11}{3 \\left(- \\frac{1}{2} + \\frac{\\sqrt{3} i}{2}\\right) \\sqrt[3]{\\frac{155}{2} + \\frac{3 \\sqrt{3261}}{2}}}, \\  - \\frac{\\sqrt[3]{\\frac{155}{2} + \\frac{3 \\sqrt{3261}}{2}}}{3} - \\frac{1}{3} + \\frac{11}{3 \\sqrt[3]{\\frac{155}{2} + \\frac{3 \\sqrt{3261}}{2}}}\\right]$"
      ],
      "text/plain": [
       "⎡                                                            _______________  \n",
       "⎢                                           ⎛  1   √3⋅ⅈ⎞    ╱ 155   3⋅√3261   \n",
       "⎢                                           ⎜- ─ - ────⎟⋅3 ╱  ─── + ───────   \n",
       "⎢  1                   11                   ⎝  2    2  ⎠ ╲╱    2       2      \n",
       "⎢- ─ + ────────────────────────────────── - ────────────────────────────────, \n",
       "⎢  3                      _______________                  3                  \n",
       "⎢        ⎛  1   √3⋅ⅈ⎞    ╱ 155   3⋅√3261                                      \n",
       "⎢      3⋅⎜- ─ - ────⎟⋅3 ╱  ─── + ───────                                      \n",
       "⎣        ⎝  2    2  ⎠ ╲╱    2       2                                         \n",
       "\n",
       "                       _______________                                        \n",
       "      ⎛  1   √3⋅ⅈ⎞    ╱ 155   3⋅√3261                                         \n",
       "      ⎜- ─ + ────⎟⋅3 ╱  ─── + ───────                                         \n",
       "  1   ⎝  2    2  ⎠ ╲╱    2       2                       11                   \n",
       "- ─ - ──────────────────────────────── + ──────────────────────────────────, -\n",
       "  3                  3                                      _______________   \n",
       "                                           ⎛  1   √3⋅ⅈ⎞    ╱ 155   3⋅√3261    \n",
       "                                         3⋅⎜- ─ + ────⎟⋅3 ╱  ─── + ───────    \n",
       "                                           ⎝  2    2  ⎠ ╲╱    2       2       \n",
       "\n",
       "     _______________                            ⎤\n",
       "    ╱ 155   3⋅√3261                             ⎥\n",
       " 3 ╱  ─── + ───────                             ⎥\n",
       " ╲╱    2       2       1             11         ⎥\n",
       " ─────────────────── - ─ + ─────────────────────⎥\n",
       "          3            3         _______________⎥\n",
       "                                ╱ 155   3⋅√3261 ⎥\n",
       "                           3⋅3 ╱  ─── + ─────── ⎥\n",
       "                             ╲╱    2       2    ⎦"
      ]
     },
     "execution_count": 42,
     "metadata": {},
     "output_type": "execute_result"
    }
   ],
   "source": [
    "solve(x**3+x**2+4*x+7, x) \n"
   ]
  },
  {
   "cell_type": "markdown",
   "metadata": {},
   "source": [
    "Ex 4 : Application\n",
    "Le but est d’utiliser Sympy pour résoudre symboliquement différents problèmes mathématiquesen \n",
    "1. Déterminer le nombre de zéro que contient l’entier 123!\n",
    "2. Déterminer le rapport entre la hauteur et le rayon d’un cylindre de manière à minimiser sonaire à volume fixé\n",
    "3. Pour x,y∈R tels que xy <1, démontrer que arctan(x) + arctan(y) = arctan(x+y/1−xy)\n",
    "\n",
    "    "
   ]
  },
  {
   "cell_type": "code",
   "execution_count": 57,
   "metadata": {},
   "outputs": [
    {
     "ename": "SyntaxError",
     "evalue": "invalid syntax (<ipython-input-57-80d41b81b307>, line 1)",
     "output_type": "error",
     "traceback": [
      "\u001b[1;36m  File \u001b[1;32m\"<ipython-input-57-80d41b81b307>\"\u001b[1;36m, line \u001b[1;32m1\u001b[0m\n\u001b[1;33m    N(123!)\u001b[0m\n\u001b[1;37m         ^\u001b[0m\n\u001b[1;31mSyntaxError\u001b[0m\u001b[1;31m:\u001b[0m invalid syntax\n"
     ]
    }
   ],
   "source": [
    "N(123!)"
   ]
  }
 ],
 "metadata": {
  "kernelspec": {
   "display_name": "Python 3",
   "language": "python",
   "name": "python3"
  },
  "language_info": {
   "codemirror_mode": {
    "name": "ipython",
    "version": 3
   },
   "file_extension": ".py",
   "mimetype": "text/x-python",
   "name": "python",
   "nbconvert_exporter": "python",
   "pygments_lexer": "ipython3",
   "version": "3.7.6"
  }
 },
 "nbformat": 4,
 "nbformat_minor": 4
}
